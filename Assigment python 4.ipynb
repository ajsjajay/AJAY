{
 "cells": [
  {
   "cell_type": "markdown",
   "id": "a53e048c",
   "metadata": {},
   "source": [
    "1. What exactly is []?"
   ]
  },
  {
   "cell_type": "code",
   "execution_count": 1,
   "id": "82398e93",
   "metadata": {},
   "outputs": [
    {
     "data": {
      "text/plain": [
       "'It is a operator used to enclose the list values or used for indexing operation.'"
      ]
     },
     "execution_count": 1,
     "metadata": {},
     "output_type": "execute_result"
    }
   ],
   "source": [
    "\"\"\"It is a operator used to enclose the list values or used for indexing operation.\"\"\""
   ]
  },
  {
   "cell_type": "markdown",
   "id": "c65ff413",
   "metadata": {},
   "source": [
    "2. In a list of values stored in a variable called spam, how would you assign the value 'hello' as the\n",
    "third value? (Assume [2, 4, 6, 8, 10] are in spam.)"
   ]
  },
  {
   "cell_type": "code",
   "execution_count": 8,
   "id": "dd57c359",
   "metadata": {},
   "outputs": [],
   "source": [
    "spam=[2,4,6,8,10]"
   ]
  },
  {
   "cell_type": "code",
   "execution_count": 9,
   "id": "17d78fe4",
   "metadata": {},
   "outputs": [],
   "source": [
    "spam.insert(2,'hello')"
   ]
  },
  {
   "cell_type": "code",
   "execution_count": 10,
   "id": "d0a6a767",
   "metadata": {},
   "outputs": [
    {
     "data": {
      "text/plain": [
       "[2, 4, 'hello', 6, 8, 10]"
      ]
     },
     "execution_count": 10,
     "metadata": {},
     "output_type": "execute_result"
    }
   ],
   "source": [
    "spam"
   ]
  },
  {
   "cell_type": "markdown",
   "id": "3cfa1171",
   "metadata": {},
   "source": [
    "3. What is the value of spam[int(int('3' * 2) / 11)]?"
   ]
  },
  {
   "cell_type": "code",
   "execution_count": 11,
   "id": "7724f093",
   "metadata": {},
   "outputs": [],
   "source": [
    "spam=['a','b','c','d']"
   ]
  },
  {
   "cell_type": "code",
   "execution_count": 12,
   "id": "eed789d9",
   "metadata": {},
   "outputs": [
    {
     "data": {
      "text/plain": [
       "'d'"
      ]
     },
     "execution_count": 12,
     "metadata": {},
     "output_type": "execute_result"
    }
   ],
   "source": [
    "spam[int(int('3' * 2) / 11)]"
   ]
  },
  {
   "cell_type": "markdown",
   "id": "3fcb3982",
   "metadata": {},
   "source": [
    "4.What is the value of spam[-1]?"
   ]
  },
  {
   "cell_type": "code",
   "execution_count": 13,
   "id": "8b9d09de",
   "metadata": {},
   "outputs": [
    {
     "data": {
      "text/plain": [
       "'d'"
      ]
     },
     "execution_count": 13,
     "metadata": {},
     "output_type": "execute_result"
    }
   ],
   "source": [
    "spam[-1]"
   ]
  },
  {
   "cell_type": "markdown",
   "id": "6a50d497",
   "metadata": {},
   "source": [
    "5. What is the value of spam[:2]?"
   ]
  },
  {
   "cell_type": "code",
   "execution_count": 14,
   "id": "54bc065f",
   "metadata": {},
   "outputs": [
    {
     "data": {
      "text/plain": [
       "['a', 'b']"
      ]
     },
     "execution_count": 14,
     "metadata": {},
     "output_type": "execute_result"
    }
   ],
   "source": [
    "spam[:2]"
   ]
  },
  {
   "cell_type": "markdown",
   "id": "f473d6b3",
   "metadata": {},
   "source": [
    "6. Let's pretend bacon has the list [3.14, 'cat,' 11, 'cat,' True] for the next three questions.\n",
    ". What is the value of bacon.index('cat')?\n"
   ]
  },
  {
   "cell_type": "code",
   "execution_count": 6,
   "id": "eb81861d",
   "metadata": {},
   "outputs": [],
   "source": [
    "bacon=[3.14,'cat',11,'cat',True]"
   ]
  },
  {
   "cell_type": "code",
   "execution_count": 4,
   "id": "7543d8fb",
   "metadata": {},
   "outputs": [
    {
     "data": {
      "text/plain": [
       "1"
      ]
     },
     "execution_count": 4,
     "metadata": {},
     "output_type": "execute_result"
    }
   ],
   "source": [
    "bacon.index('cat')"
   ]
  },
  {
   "cell_type": "markdown",
   "id": "bd5f7f24",
   "metadata": {},
   "source": [
    "7. How does bacon.append(99) change the look of the list value in bacon?"
   ]
  },
  {
   "cell_type": "code",
   "execution_count": 22,
   "id": "52746417",
   "metadata": {},
   "outputs": [],
   "source": [
    "bacon.append(99) #This will append(add) the value at the last index of bacon variable."
   ]
  },
  {
   "cell_type": "code",
   "execution_count": 23,
   "id": "78dde3d5",
   "metadata": {},
   "outputs": [
    {
     "data": {
      "text/plain": [
       "[3.14, 'cat', 11, 'cat', True, 99, 99]"
      ]
     },
     "execution_count": 23,
     "metadata": {},
     "output_type": "execute_result"
    }
   ],
   "source": [
    "bacon "
   ]
  },
  {
   "cell_type": "markdown",
   "id": "f6665113",
   "metadata": {},
   "source": [
    "8. How does bacon.remove('cat') change the look of the list in bacon?"
   ]
  },
  {
   "cell_type": "code",
   "execution_count": 24,
   "id": "9190b5fe",
   "metadata": {},
   "outputs": [],
   "source": [
    "bacon.remove('cat') "
   ]
  },
  {
   "cell_type": "code",
   "execution_count": 25,
   "id": "faad5aa9",
   "metadata": {},
   "outputs": [
    {
     "data": {
      "text/plain": [
       "[3.14, 11, 'cat', True, 99, 99]"
      ]
     },
     "execution_count": 25,
     "metadata": {},
     "output_type": "execute_result"
    }
   ],
   "source": [
    "bacon          #It removes the first occurence of the value 'cat'"
   ]
  },
  {
   "cell_type": "markdown",
   "id": "e5387e28",
   "metadata": {},
   "source": [
    "9. What are the list concatenation and list replication operators?"
   ]
  },
  {
   "cell_type": "code",
   "execution_count": 10,
   "id": "fcb21053",
   "metadata": {},
   "outputs": [
    {
     "data": {
      "text/plain": [
       "'list concatenation operators are append,insert and EXTEND and list replication operator is copy.'"
      ]
     },
     "execution_count": 10,
     "metadata": {},
     "output_type": "execute_result"
    }
   ],
   "source": [
    "\"\"\"list concatenation operators are append,insert and EXTEND and list replication operator is copy.\"\"\""
   ]
  },
  {
   "cell_type": "markdown",
   "id": "6c259423",
   "metadata": {},
   "source": [
    "10. What is difference between the list methods append() and insert()?"
   ]
  },
  {
   "cell_type": "code",
   "execution_count": 8,
   "id": "69d976ea",
   "metadata": {},
   "outputs": [],
   "source": [
    "bacon.insert(2,2)"
   ]
  },
  {
   "cell_type": "code",
   "execution_count": 9,
   "id": "9f894c69",
   "metadata": {},
   "outputs": [
    {
     "data": {
      "text/plain": [
       "[3.14, 'cat', 2, 11, 'cat', True]"
      ]
     },
     "execution_count": 9,
     "metadata": {},
     "output_type": "execute_result"
    }
   ],
   "source": [
    "bacon"
   ]
  },
  {
   "cell_type": "code",
   "execution_count": 12,
   "id": "2b3abd3b",
   "metadata": {},
   "outputs": [],
   "source": [
    "bacon.append(\"iidididid\")"
   ]
  },
  {
   "cell_type": "code",
   "execution_count": 13,
   "id": "5fa0fb02",
   "metadata": {},
   "outputs": [
    {
     "data": {
      "text/plain": [
       "[3.14, 'cat', 2, 11, 'cat', True, 'iidididid']"
      ]
     },
     "execution_count": 13,
     "metadata": {},
     "output_type": "execute_result"
    }
   ],
   "source": [
    "bacon"
   ]
  },
  {
   "cell_type": "code",
   "execution_count": 15,
   "id": "3808700d",
   "metadata": {},
   "outputs": [
    {
     "data": {
      "text/plain": [
       "'Append operator by default adds the data at the end of the list and insert aperator can only add data when an index is mention at aurgument,so only datta is added  at the mentioned index.'"
      ]
     },
     "execution_count": 15,
     "metadata": {},
     "output_type": "execute_result"
    }
   ],
   "source": [
    "\"\"\"Append operator by default adds the data at the end of the list and insert aperator can only add data when an index is mention at aurgument,so only datta is added  at the mentioned index.\"\"\""
   ]
  },
  {
   "cell_type": "markdown",
   "id": "e182648e",
   "metadata": {},
   "source": [
    "11. What are the two methods for removing items from a list?"
   ]
  },
  {
   "cell_type": "code",
   "execution_count": 37,
   "id": "06182fce",
   "metadata": {},
   "outputs": [],
   "source": [
    "a=[3.14,'cat',11,'cat',True]"
   ]
  },
  {
   "cell_type": "code",
   "execution_count": 38,
   "id": "f7ec1d98",
   "metadata": {},
   "outputs": [
    {
     "data": {
      "text/plain": [
       "True"
      ]
     },
     "execution_count": 38,
     "metadata": {},
     "output_type": "execute_result"
    }
   ],
   "source": [
    "a.pop()"
   ]
  },
  {
   "cell_type": "code",
   "execution_count": 39,
   "id": "45414610",
   "metadata": {},
   "outputs": [
    {
     "data": {
      "text/plain": [
       "[3.14, 'cat', 11, 'cat']"
      ]
     },
     "execution_count": 39,
     "metadata": {},
     "output_type": "execute_result"
    }
   ],
   "source": [
    "a ### Actually a pop removes the data from a list ad by default it removes the last aurgument of list."
   ]
  },
  {
   "cell_type": "code",
   "execution_count": 41,
   "id": "c0200d14",
   "metadata": {},
   "outputs": [],
   "source": [
    "a.remove(3.14)"
   ]
  },
  {
   "cell_type": "code",
   "execution_count": 42,
   "id": "0d79f866",
   "metadata": {},
   "outputs": [
    {
     "data": {
      "text/plain": [
       "['cat', 11, 'cat']"
      ]
     },
     "execution_count": 42,
     "metadata": {},
     "output_type": "execute_result"
    }
   ],
   "source": [
    "a ## it removes the value when the specifed value iin aurgument is defined in function"
   ]
  },
  {
   "cell_type": "code",
   "execution_count": 43,
   "id": "eb1e6b77",
   "metadata": {},
   "outputs": [
    {
     "data": {
      "text/plain": [
       "'pop and remove are the two methods for removing items from a list'"
      ]
     },
     "execution_count": 43,
     "metadata": {},
     "output_type": "execute_result"
    }
   ],
   "source": [
    "\"\"\"pop and remove are the two methods for removing items from a list\"\"\""
   ]
  },
  {
   "cell_type": "markdown",
   "id": "4de351db",
   "metadata": {},
   "source": [
    "12. Describe how list values and string values are identical."
   ]
  },
  {
   "cell_type": "code",
   "execution_count": 27,
   "id": "8be3977b",
   "metadata": {},
   "outputs": [],
   "source": [
    "l=[1,2,3,5,5,]"
   ]
  },
  {
   "cell_type": "code",
   "execution_count": 44,
   "id": "87a2bfd1",
   "metadata": {},
   "outputs": [],
   "source": [
    "a=\"1,2,3,4,5,5\""
   ]
  },
  {
   "cell_type": "code",
   "execution_count": 45,
   "id": "8120ce83",
   "metadata": {},
   "outputs": [
    {
     "data": {
      "text/plain": [
       "'1,2,3,4,5,5'"
      ]
     },
     "execution_count": 45,
     "metadata": {},
     "output_type": "execute_result"
    }
   ],
   "source": [
    "a"
   ]
  },
  {
   "cell_type": "code",
   "execution_count": 33,
   "id": "aedca250",
   "metadata": {},
   "outputs": [
    {
     "data": {
      "text/plain": [
       "[1, 2, 3, 5, 5]"
      ]
     },
     "execution_count": 33,
     "metadata": {},
     "output_type": "execute_result"
    }
   ],
   "source": [
    "l"
   ]
  },
  {
   "cell_type": "code",
   "execution_count": 46,
   "id": "caa16513",
   "metadata": {},
   "outputs": [
    {
     "data": {
      "text/plain": [
       "'above examples defines list and string are identical.Same values can be added in string and list with slight changes as per their defnitions.'"
      ]
     },
     "execution_count": 46,
     "metadata": {},
     "output_type": "execute_result"
    }
   ],
   "source": [
    "\"\"\"above examples defines list and string are identical.Same values can be added in string and list with slight changes as per their defnitions.\"\"\""
   ]
  },
  {
   "cell_type": "markdown",
   "id": "3e103de2",
   "metadata": {},
   "source": [
    "13. What are the difference between tuples and lists?"
   ]
  },
  {
   "cell_type": "code",
   "execution_count": 47,
   "id": "39d6d842",
   "metadata": {},
   "outputs": [
    {
     "data": {
      "text/plain": [
       "'Tuples and list could contain identical values the difference between them are list are mutable where as tuples are immutable.'"
      ]
     },
     "execution_count": 47,
     "metadata": {},
     "output_type": "execute_result"
    }
   ],
   "source": [
    "\"\"\"Tuples and list could contain identical values the difference between them are list are mutable where as tuples are immutable.\"\"\""
   ]
  },
  {
   "cell_type": "markdown",
   "id": "da02d69e",
   "metadata": {},
   "source": [
    "14. How do you type a tuple value that only contains the integer 42?"
   ]
  },
  {
   "cell_type": "code",
   "execution_count": 43,
   "id": "ac535a39",
   "metadata": {},
   "outputs": [],
   "source": [
    "t=(42)"
   ]
  },
  {
   "cell_type": "code",
   "execution_count": 44,
   "id": "30b1b9f7",
   "metadata": {},
   "outputs": [
    {
     "data": {
      "text/plain": [
       "42"
      ]
     },
     "execution_count": 44,
     "metadata": {},
     "output_type": "execute_result"
    }
   ],
   "source": [
    "t"
   ]
  },
  {
   "cell_type": "markdown",
   "id": "efc80abd",
   "metadata": {},
   "source": [
    "15. How do you get a list value's tuple form? How do you get a tuple value's list form?"
   ]
  },
  {
   "cell_type": "code",
   "execution_count": 1,
   "id": "7096ab3b",
   "metadata": {},
   "outputs": [],
   "source": [
    "l=[1,2,3,4,\"sudh\",True]\n"
   ]
  },
  {
   "cell_type": "code",
   "execution_count": 2,
   "id": "bbdc2dff",
   "metadata": {},
   "outputs": [
    {
     "data": {
      "text/plain": [
       "(1, 2, 3, 4, 'sudh', True)"
      ]
     },
     "execution_count": 2,
     "metadata": {},
     "output_type": "execute_result"
    }
   ],
   "source": [
    "tuple(l)"
   ]
  },
  {
   "cell_type": "code",
   "execution_count": 3,
   "id": "a495860f",
   "metadata": {},
   "outputs": [],
   "source": [
    "b=(1,2,3,4,\"sudh\",True)"
   ]
  },
  {
   "cell_type": "code",
   "execution_count": 4,
   "id": "ec837f19",
   "metadata": {},
   "outputs": [
    {
     "data": {
      "text/plain": [
       "[1, 2, 3, 4, 'sudh', True]"
      ]
     },
     "execution_count": 4,
     "metadata": {},
     "output_type": "execute_result"
    }
   ],
   "source": [
    "list(b)"
   ]
  },
  {
   "cell_type": "markdown",
   "id": "8d45fa5f",
   "metadata": {},
   "source": [
    "16. Variables that \"contain\" list values are not necessarily lists themselves. Instead, what do they\n",
    "contain?\n"
   ]
  },
  {
   "cell_type": "code",
   "execution_count": 48,
   "id": "d3cf0c54",
   "metadata": {},
   "outputs": [
    {
     "data": {
      "text/plain": [
       "'Instead they contain string in list /integer in list'"
      ]
     },
     "execution_count": 48,
     "metadata": {},
     "output_type": "execute_result"
    }
   ],
   "source": [
    "\"\"\"Instead they contain string in list /integer in list\"\"\""
   ]
  },
  {
   "cell_type": "markdown",
   "id": "e4b39ef8",
   "metadata": {},
   "source": [
    "17. How do you distinguish between copy.copy() and copy.deepcopy()?"
   ]
  },
  {
   "cell_type": "code",
   "execution_count": 57,
   "id": "67b2e101",
   "metadata": {},
   "outputs": [],
   "source": [
    "l=[1,2,3,4]"
   ]
  },
  {
   "cell_type": "code",
   "execution_count": 61,
   "id": "026151dd",
   "metadata": {},
   "outputs": [
    {
     "data": {
      "text/plain": [
       "[1, 2, 3, 4]"
      ]
     },
     "execution_count": 61,
     "metadata": {},
     "output_type": "execute_result"
    }
   ],
   "source": [
    "l.copy()"
   ]
  },
  {
   "cell_type": "code",
   "execution_count": 49,
   "id": "b091ee52",
   "metadata": {},
   "outputs": [],
   "source": [
    "l=[1,2,3,4]"
   ]
  },
  {
   "cell_type": "code",
   "execution_count": 50,
   "id": "906d4ccf",
   "metadata": {},
   "outputs": [
    {
     "ename": "AttributeError",
     "evalue": "'list' object has no attribute 'deepcopy'",
     "output_type": "error",
     "traceback": [
      "\u001b[1;31m---------------------------------------------------------------------------\u001b[0m",
      "\u001b[1;31mAttributeError\u001b[0m                            Traceback (most recent call last)",
      "\u001b[1;32m~\\AppData\\Local\\Temp/ipykernel_12816/2150656158.py\u001b[0m in \u001b[0;36m<module>\u001b[1;34m\u001b[0m\n\u001b[1;32m----> 1\u001b[1;33m \u001b[0ml\u001b[0m\u001b[1;33m.\u001b[0m\u001b[0mdeepcopy\u001b[0m\u001b[1;33m(\u001b[0m\u001b[1;33m)\u001b[0m\u001b[1;33m\u001b[0m\u001b[1;33m\u001b[0m\u001b[0m\n\u001b[0m",
      "\u001b[1;31mAttributeError\u001b[0m: 'list' object has no attribute 'deepcopy'"
     ]
    }
   ],
   "source": [
    "l.deepcopy()"
   ]
  },
  {
   "cell_type": "code",
   "execution_count": null,
   "id": "7d33fe7d",
   "metadata": {},
   "outputs": [],
   "source": []
  }
 ],
 "metadata": {
  "kernelspec": {
   "display_name": "Python 3 (ipykernel)",
   "language": "python",
   "name": "python3"
  },
  "language_info": {
   "codemirror_mode": {
    "name": "ipython",
    "version": 3
   },
   "file_extension": ".py",
   "mimetype": "text/x-python",
   "name": "python",
   "nbconvert_exporter": "python",
   "pygments_lexer": "ipython3",
   "version": "3.9.7"
  }
 },
 "nbformat": 4,
 "nbformat_minor": 5
}
