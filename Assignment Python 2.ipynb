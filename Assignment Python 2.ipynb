{
 "cells": [
  {
   "cell_type": "markdown",
   "id": "cdfa71ec",
   "metadata": {},
   "source": [
    "1.What are the two values of the Boolean data type? How do you write them?"
   ]
  },
  {
   "cell_type": "markdown",
   "id": "f11c4aa3",
   "metadata": {},
   "source": [
    "----> True and False are the two values of boolean data type.We arite them as True and False"
   ]
  },
  {
   "cell_type": "markdown",
   "id": "e2a41eae",
   "metadata": {},
   "source": [
    "2. What are the three different types of Boolean operators?"
   ]
  },
  {
   "cell_type": "markdown",
   "id": "b39b414f",
   "metadata": {},
   "source": [
    "------>  \"And\", \"OR\" and \"Not\"are the types of boolean operators."
   ]
  },
  {
   "cell_type": "markdown",
   "id": "68e81f8e",
   "metadata": {},
   "source": [
    "3. Make a list of each Boolean operator's truth tables (i.e. every possible combination of Boolean\n",
    "values for the operator and what it evaluate ).\n",
    "\n",
    "Or Table\n",
    "True  True  = True\n",
    "False True  = True\n",
    "True  False = True\n",
    "Fasle False = False\n",
    "\n",
    "And Table\n",
    "True  True  = True\n",
    "False True  = False\n",
    "True  False = False\n",
    "Fasle False = False\n",
    "\n",
    "Not Table\n",
    "True  True  = False\n",
    "False True  = False\n",
    "True  False = False\n",
    "Fasle False = True"
   ]
  },
  {
   "cell_type": "markdown",
   "id": "4a1bf1f5",
   "metadata": {},
   "source": [
    "4. What are the values of the following expressions?\n"
   ]
  },
  {
   "cell_type": "code",
   "execution_count": 1,
   "id": "b184627f",
   "metadata": {},
   "outputs": [
    {
     "data": {
      "text/plain": [
       "False"
      ]
     },
     "execution_count": 1,
     "metadata": {},
     "output_type": "execute_result"
    }
   ],
   "source": [
    "(5 > 4) and (3 == 5)"
   ]
  },
  {
   "cell_type": "code",
   "execution_count": 2,
   "id": "46276297",
   "metadata": {},
   "outputs": [
    {
     "data": {
      "text/plain": [
       "False"
      ]
     },
     "execution_count": 2,
     "metadata": {},
     "output_type": "execute_result"
    }
   ],
   "source": [
    "not (5 > 4)"
   ]
  },
  {
   "cell_type": "code",
   "execution_count": 3,
   "id": "70847d9a",
   "metadata": {},
   "outputs": [
    {
     "data": {
      "text/plain": [
       "True"
      ]
     },
     "execution_count": 3,
     "metadata": {},
     "output_type": "execute_result"
    }
   ],
   "source": [
    "(5 > 4) or (3 == 5)"
   ]
  },
  {
   "cell_type": "code",
   "execution_count": 4,
   "id": "2b8f1181",
   "metadata": {},
   "outputs": [
    {
     "data": {
      "text/plain": [
       "False"
      ]
     },
     "execution_count": 4,
     "metadata": {},
     "output_type": "execute_result"
    }
   ],
   "source": [
    "not ((5 > 4) or (3 == 5))"
   ]
  },
  {
   "cell_type": "code",
   "execution_count": 5,
   "id": "c17a5655",
   "metadata": {},
   "outputs": [
    {
     "data": {
      "text/plain": [
       "False"
      ]
     },
     "execution_count": 5,
     "metadata": {},
     "output_type": "execute_result"
    }
   ],
   "source": [
    "(True and True) and (True == False)"
   ]
  },
  {
   "cell_type": "code",
   "execution_count": 6,
   "id": "f6ba0be1",
   "metadata": {},
   "outputs": [
    {
     "data": {
      "text/plain": [
       "True"
      ]
     },
     "execution_count": 6,
     "metadata": {},
     "output_type": "execute_result"
    }
   ],
   "source": [
    "(not False) or (not True)"
   ]
  },
  {
   "cell_type": "markdown",
   "id": "122d5a71",
   "metadata": {},
   "source": [
    "5. What are the six comparison operators?"
   ]
  },
  {
   "cell_type": "markdown",
   "id": "12fc7249",
   "metadata": {},
   "source": [
    "Equal to ( == )\n",
    "Not equal to ( != )\n",
    "Less than ( < )\n",
    "Less than or equal to ( <= )\n",
    "Greater than ( > )\n",
    "Greater than or equal to ( >= )\n"
   ]
  },
  {
   "cell_type": "markdown",
   "id": "a69431bd",
   "metadata": {},
   "source": [
    "6. How do you tell the difference between the equal to and assignment operators?Describe a\n",
    "condition and when you would use one."
   ]
  },
  {
   "cell_type": "markdown",
   "id": "19d2d4ee",
   "metadata": {},
   "source": [
    "---->The '=' is an assignment operator is used to assign the value to the variable  The '==' is comparision operator,which checks whether the two given operands are equal or not. If so, it returns true, Otherwise it returns false."
   ]
  },
  {
   "cell_type": "markdown",
   "id": "26eb9096",
   "metadata": {},
   "source": []
  },
  {
   "cell_type": "markdown",
   "id": "8484c62b",
   "metadata": {},
   "source": [
    "7. Identify the three blocks in this code:\n",
    "spam = 0\n",
    "if spam == 10:\n",
    "print('eggs')\n",
    "if spam >5:\n",
    "print('bacon')\n",
    "else:\n",
    "print('ham')\n",
    "print('spam')\n",
    "print('spam')"
   ]
  },
  {
   "cell_type": "markdown",
   "id": "4a7427d8",
   "metadata": {},
   "source": [
    "--------->Two \"If\" and one \"else\" block are there in the code."
   ]
  },
  {
   "cell_type": "markdown",
   "id": "a196cb8c",
   "metadata": {},
   "source": [
    "8. Write code that prints Hello if 1 is stored in spam, prints Howdy if 2 is stored in spam, and prints\n",
    "Greetings! if anything else is stored in spam."
   ]
  },
  {
   "cell_type": "code",
   "execution_count": 21,
   "id": "d45c5db7",
   "metadata": {},
   "outputs": [
    {
     "name": "stdout",
     "output_type": "stream",
     "text": [
      "Hello\n",
      "Howdy\n",
      "Greetings!\n"
     ]
    }
   ],
   "source": [
    "spam=[1,2,3,4,5]\n",
    "if 1 in spam:\n",
    "    print(\"Hello\")\n",
    "    if 2 in spam:\n",
    "        print(\"Howdy\")\n",
    "        if 4 in spam:\n",
    "            print(\"Greetings!\")\n",
    "\n",
    "        \n",
    "          "
   ]
  },
  {
   "cell_type": "markdown",
   "id": "1636f914",
   "metadata": {},
   "source": [
    "9.If your programme is stuck in an endless loop, what keys you’ll press?\n",
    "\n",
    "--> We can use CTRL+C \n",
    "Also we could use break statement."
   ]
  },
  {
   "cell_type": "markdown",
   "id": "2eb3d32e",
   "metadata": {},
   "source": [
    "10. How can you tell the difference between break and continue?"
   ]
  },
  {
   "cell_type": "code",
   "execution_count": 7,
   "id": "f7b22f15",
   "metadata": {},
   "outputs": [],
   "source": [
    "l=[1,2,3,4,5,6]"
   ]
  },
  {
   "cell_type": "code",
   "execution_count": 8,
   "id": "6a6c5643",
   "metadata": {},
   "outputs": [
    {
     "name": "stdout",
     "output_type": "stream",
     "text": [
      "1\n",
      "2\n",
      "3\n",
      "4\n",
      "5\n"
     ]
    }
   ],
   "source": [
    "for i in l:\n",
    "    print(i)\n",
    "    if i==5: #A break is used to stop the continuous iteration of loop with certain condition.\n",
    "        break\n",
    "        "
   ]
  },
  {
   "cell_type": "code",
   "execution_count": 6,
   "id": "d3527b4c",
   "metadata": {},
   "outputs": [
    {
     "data": {
      "text/plain": [
       "'l=[1,2,3,4,5,6]\\na=1\\nwhile a<=len(l):\\n    print(a)\\n    if a==5:  # in this code we could state that Continue is used to continue the value 5 and it puts the loop into endless                 loop with go on iterating 5 untill wee stop the kernal.\\n        continue\\n    a=a+1'"
      ]
     },
     "execution_count": 6,
     "metadata": {},
     "output_type": "execute_result"
    }
   ],
   "source": [
    "\"\"\"l=[1,2,3,4,5,6]\n",
    "a=1\n",
    "while a<=len(l):\n",
    "    print(a)\n",
    "    if a==5:  # in this code we could state that Continue is used to continue the value 5 and it puts the loop into endless                 loop with go on iterating 5 untill wee stop the kernal.\n",
    "        continue\n",
    "    a=a+1\"\"\""
   ]
  },
  {
   "cell_type": "markdown",
   "id": "06ba1199",
   "metadata": {},
   "source": [
    "By above examples we could say that brak statement will break the loop at certain value /point.Where as the continue will make the sataement to perform to print the certain value continiously without end .That is ,it puts the loop into an endless loop and the value at which you will continue will gets printed without ending."
   ]
  },
  {
   "cell_type": "markdown",
   "id": "a6a18f42",
   "metadata": {},
   "source": [
    "11. In a for loop, what is the difference between range(10), range(0, 10), and range(0, 10, 1)?"
   ]
  },
  {
   "cell_type": "code",
   "execution_count": 23,
   "id": "04d0c0d5",
   "metadata": {},
   "outputs": [
    {
     "data": {
      "text/plain": [
       "range(0, 10)"
      ]
     },
     "execution_count": 23,
     "metadata": {},
     "output_type": "execute_result"
    }
   ],
   "source": [
    "range(10)"
   ]
  },
  {
   "cell_type": "code",
   "execution_count": 32,
   "id": "bd5b501d",
   "metadata": {},
   "outputs": [
    {
     "name": "stdout",
     "output_type": "stream",
     "text": [
      "0\n",
      "1\n",
      "2\n",
      "3\n",
      "4\n",
      "5\n",
      "6\n",
      "7\n",
      "8\n",
      "9\n"
     ]
    }
   ],
   "source": [
    "for i in range(10):\n",
    "    print(i)"
   ]
  },
  {
   "cell_type": "code",
   "execution_count": 1,
   "id": "51381c2e",
   "metadata": {},
   "outputs": [
    {
     "name": "stdout",
     "output_type": "stream",
     "text": [
      "0\n",
      "1\n",
      "2\n",
      "3\n",
      "4\n",
      "5\n",
      "6\n",
      "7\n",
      "8\n",
      "9\n"
     ]
    }
   ],
   "source": [
    "for i in range(0,10):\n",
    "    print(i)"
   ]
  },
  {
   "cell_type": "code",
   "execution_count": 2,
   "id": "8b8fa30c",
   "metadata": {},
   "outputs": [
    {
     "name": "stdout",
     "output_type": "stream",
     "text": [
      "0\n",
      "1\n",
      "2\n",
      "3\n",
      "4\n",
      "5\n",
      "6\n",
      "7\n",
      "8\n",
      "9\n"
     ]
    }
   ],
   "source": [
    "for i in range(0,10,1):\n",
    "    print(i)"
   ]
  },
  {
   "cell_type": "markdown",
   "id": "15e52aa4",
   "metadata": {},
   "source": [
    "There is no such difference between range(10), range(0, 10), and range(0, 10, 1) in for loop ,all will CALL THE SAME VALUES"
   ]
  },
  {
   "cell_type": "markdown",
   "id": "b6210931",
   "metadata": {},
   "source": [
    "12. Write a short program that prints the numbers 1 to 10 using a for loop. Then write an equivalent\n",
    "program that prints the numbers 1 to 10 using a while loop."
   ]
  },
  {
   "cell_type": "code",
   "execution_count": 33,
   "id": "124e14f3",
   "metadata": {},
   "outputs": [
    {
     "name": "stdout",
     "output_type": "stream",
     "text": [
      "1\n",
      "2\n",
      "3\n",
      "4\n",
      "5\n",
      "6\n",
      "7\n",
      "8\n",
      "9\n",
      "10\n"
     ]
    }
   ],
   "source": [
    "for i in range(1,11):\n",
    "    print(i)"
   ]
  },
  {
   "cell_type": "code",
   "execution_count": 5,
   "id": "809c7811",
   "metadata": {},
   "outputs": [
    {
     "name": "stdout",
     "output_type": "stream",
     "text": [
      "1\n",
      "2\n",
      "3\n",
      "4\n",
      "5\n",
      "6\n",
      "7\n",
      "8\n",
      "9\n",
      "10\n"
     ]
    }
   ],
   "source": [
    "a=1\n",
    "while a< len(range(0,11)):\n",
    "    print(a)\n",
    "    a=a+1"
   ]
  },
  {
   "cell_type": "markdown",
   "id": "302f183d",
   "metadata": {},
   "source": [
    "13. If you had a function named bacon() inside a module named spam, how would you call it after\n",
    "importing spam?"
   ]
  },
  {
   "cell_type": "code",
   "execution_count": null,
   "id": "76455c9b",
   "metadata": {},
   "outputs": [],
   "source": [
    "#### PEnding questions 13"
   ]
  }
 ],
 "metadata": {
  "kernelspec": {
   "display_name": "Python 3 (ipykernel)",
   "language": "python",
   "name": "python3"
  },
  "language_info": {
   "codemirror_mode": {
    "name": "ipython",
    "version": 3
   },
   "file_extension": ".py",
   "mimetype": "text/x-python",
   "name": "python",
   "nbconvert_exporter": "python",
   "pygments_lexer": "ipython3",
   "version": "3.9.7"
  }
 },
 "nbformat": 4,
 "nbformat_minor": 5
}
