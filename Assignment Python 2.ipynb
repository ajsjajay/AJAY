{
 "cells": [
  {
   "cell_type": "markdown",
   "id": "0ed98962",
   "metadata": {},
   "source": [
    "1.What are the two values of the Boolean data type? How do you write them?"
   ]
  },
  {
   "cell_type": "markdown",
   "id": "b07d58eb",
   "metadata": {},
   "source": [
    "----> True and False are the two values of boolean data type.We arite them as True and False"
   ]
  },
  {
   "cell_type": "markdown",
   "id": "e7d44d3a",
   "metadata": {},
   "source": [
    "2. What are the three different types of Boolean operators?"
   ]
  },
  {
   "cell_type": "markdown",
   "id": "5b6a5b61",
   "metadata": {},
   "source": [
    "------>  \"And\", \"OR\" and \"Not\"are the types of boolean operators."
   ]
  },
  {
   "cell_type": "markdown",
   "id": "fd4eef0b",
   "metadata": {},
   "source": [
    "3. Make a list of each Boolean operator's truth tables (i.e. every possible combination of Boolean\n",
    "values for the operator and what it evaluate )."
   ]
  },
  {
   "cell_type": "code",
   "execution_count": 13,
   "id": "5b5a88a1",
   "metadata": {},
   "outputs": [
    {
     "data": {
      "text/plain": [
       "'\\n\\nOr Table\\nTrue  True  = True\\nFalse True  = True\\nTrue  False = True\\nFasle False = False\\n\\nAnd Table\\nTrue  True  = True\\nFalse True  = False\\nTrue  False = False\\nFasle False = False\\n\\nNot Table\\nTrue  True  = False\\nFalse True  = False\\nTrue  False = False\\nFasle False = True'"
      ]
     },
     "execution_count": 13,
     "metadata": {},
     "output_type": "execute_result"
    }
   ],
   "source": [
    "\"\"\"\n",
    "\n",
    "Or Table\n",
    "True  True  = True\n",
    "False True  = True\n",
    "True  False = True\n",
    "Fasle False = False\n",
    "\n",
    "And Table\n",
    "True  True  = True\n",
    "False True  = False\n",
    "True  False = False\n",
    "Fasle False = False\n",
    "\n",
    "Not Table\n",
    "True  True  = False\n",
    "False True  = False\n",
    "True  False = False\n",
    "Fasle False = True\"\"\""
   ]
  },
  {
   "cell_type": "markdown",
   "id": "2a78805e",
   "metadata": {},
   "source": [
    "4. What are the values of the following expressions?\n"
   ]
  },
  {
   "cell_type": "code",
   "execution_count": 1,
   "id": "b184627f",
   "metadata": {},
   "outputs": [
    {
     "data": {
      "text/plain": [
       "False"
      ]
     },
     "execution_count": 1,
     "metadata": {},
     "output_type": "execute_result"
    }
   ],
   "source": [
    "(5 > 4) and (3 == 5)"
   ]
  },
  {
   "cell_type": "code",
   "execution_count": 2,
   "id": "46276297",
   "metadata": {},
   "outputs": [
    {
     "data": {
      "text/plain": [
       "False"
      ]
     },
     "execution_count": 2,
     "metadata": {},
     "output_type": "execute_result"
    }
   ],
   "source": [
    "not (5 > 4)"
   ]
  },
  {
   "cell_type": "code",
   "execution_count": 3,
   "id": "70847d9a",
   "metadata": {},
   "outputs": [
    {
     "data": {
      "text/plain": [
       "True"
      ]
     },
     "execution_count": 3,
     "metadata": {},
     "output_type": "execute_result"
    }
   ],
   "source": [
    "(5 > 4) or (3 == 5)"
   ]
  },
  {
   "cell_type": "code",
   "execution_count": 4,
   "id": "2b8f1181",
   "metadata": {},
   "outputs": [
    {
     "data": {
      "text/plain": [
       "False"
      ]
     },
     "execution_count": 4,
     "metadata": {},
     "output_type": "execute_result"
    }
   ],
   "source": [
    "not ((5 > 4) or (3 == 5))"
   ]
  },
  {
   "cell_type": "code",
   "execution_count": 5,
   "id": "c17a5655",
   "metadata": {},
   "outputs": [
    {
     "data": {
      "text/plain": [
       "False"
      ]
     },
     "execution_count": 5,
     "metadata": {},
     "output_type": "execute_result"
    }
   ],
   "source": [
    "(True and True) and (True == False)"
   ]
  },
  {
   "cell_type": "code",
   "execution_count": 6,
   "id": "f6ba0be1",
   "metadata": {},
   "outputs": [
    {
     "data": {
      "text/plain": [
       "True"
      ]
     },
     "execution_count": 6,
     "metadata": {},
     "output_type": "execute_result"
    }
   ],
   "source": [
    "(not False) or (not True)"
   ]
  },
  {
   "cell_type": "markdown",
   "id": "5952c14c",
   "metadata": {},
   "source": [
    "5. What are the six comparison operators?"
   ]
  },
  {
   "cell_type": "code",
   "execution_count": 8,
   "id": "30293d1b",
   "metadata": {},
   "outputs": [
    {
     "data": {
      "text/plain": [
       "'Equal to ( == )\\nNot equal to ( != )\\nLess than ( < )\\nLess than or equal to ( <= )\\nGreater than ( > )\\nGreater than or equal to ( >= )'"
      ]
     },
     "execution_count": 8,
     "metadata": {},
     "output_type": "execute_result"
    }
   ],
   "source": [
    "\"\"\"Equal to ( == )\n",
    "Not equal to ( != )\n",
    "Less than ( < )\n",
    "Less than or equal to ( <= )\n",
    "Greater than ( > )\n",
    "Greater than or equal to ( >= )\"\"\"\n"
   ]
  },
  {
   "cell_type": "markdown",
   "id": "a26fc74d",
   "metadata": {},
   "source": [
    "6. How do you tell the difference between the equal to and assignment operators?Describe a\n",
    "condition and when you would use one."
   ]
  },
  {
   "cell_type": "code",
   "execution_count": 10,
   "id": "5b99ab39",
   "metadata": {},
   "outputs": [
    {
     "data": {
      "text/plain": [
       "\"The '=' is an assignment operator is used to assign the value to the variable  The '==' is comparision operator,which checks whether the two given operands are equal or not. If so, it returns true, Otherwise it returns false.\""
      ]
     },
     "execution_count": 10,
     "metadata": {},
     "output_type": "execute_result"
    }
   ],
   "source": [
    "\"\"\"The '=' is an assignment operator is used to assign the value to the variable  The '==' is comparision operator,which checks whether the two given operands are equal or not. If so, it returns true, Otherwise it returns false.\"\"\""
   ]
  },
  {
   "cell_type": "code",
   "execution_count": 11,
   "id": "e7909716",
   "metadata": {},
   "outputs": [
    {
     "data": {
      "text/plain": [
       "\"7. Identify the three blocks in this code:\\nspam = 0\\nif spam == 10:\\nprint('eggs')\\nif spam >5:\\nprint('bacon')\\nelse:\\nprint('ham')\\nprint('spam')\\nprint('spam')\""
      ]
     },
     "execution_count": 11,
     "metadata": {},
     "output_type": "execute_result"
    }
   ],
   "source": [
    "\"\"\"7Q. Identify the three blocks in this code:\n",
    "spam = 0\n",
    "if spam == 10:\n",
    "print('eggs')\n",
    "if spam >5:\n",
    "print('bacon')\n",
    "else:\n",
    "print('ham')\n",
    "print('spam')\n",
    "print('spam')\"\"\""
   ]
  },
  {
   "cell_type": "markdown",
   "id": "6d0e5131",
   "metadata": {},
   "source": [
    "--------->Two \"If\" and one \"else\" block are there in the code."
   ]
  },
  {
   "cell_type": "markdown",
   "id": "1086750f",
   "metadata": {},
   "source": [
    "8. Write code that prints Hello if 1 is stored in spam, prints Howdy if 2 is stored in spam, and prints\n",
    "Greetings! if anything else is stored in spam."
   ]
  },
  {
   "cell_type": "code",
   "execution_count": 21,
   "id": "d45c5db7",
   "metadata": {},
   "outputs": [
    {
     "name": "stdout",
     "output_type": "stream",
     "text": [
      "Hello\n",
      "Howdy\n",
      "Greetings!\n"
     ]
    }
   ],
   "source": [
    "spam=[1,2,3,4,5]\n",
    "if 1 in spam:\n",
    "    print(\"Hello\")\n",
    "    if 2 in spam:\n",
    "        print(\"Howdy\")\n",
    "        if 4 in spam:\n",
    "            print(\"Greetings!\")\n",
    "\n",
    "        \n",
    "          "
   ]
  },
  {
   "cell_type": "markdown",
   "id": "92dd7bde",
   "metadata": {},
   "source": [
    "9.If your programme is stuck in an endless loop, what keys you’ll press?\n",
    "\n"
   ]
  },
  {
   "cell_type": "code",
   "execution_count": 14,
   "id": "9e2933f6",
   "metadata": {},
   "outputs": [
    {
     "data": {
      "text/plain": [
       "'We can use CTRL+C \\nAlso we could use break statement.'"
      ]
     },
     "execution_count": 14,
     "metadata": {},
     "output_type": "execute_result"
    }
   ],
   "source": [
    "\"\"\"We can use CTRL+C \n",
    "Also we could use break statement.\"\"\""
   ]
  },
  {
   "cell_type": "markdown",
   "id": "4587311b",
   "metadata": {},
   "source": [
    "10. How can you tell the difference between break and continue?"
   ]
  },
  {
   "cell_type": "code",
   "execution_count": 7,
   "id": "f7b22f15",
   "metadata": {},
   "outputs": [],
   "source": [
    "l=[1,2,3,4,5,6]"
   ]
  },
  {
   "cell_type": "code",
   "execution_count": 8,
   "id": "6a6c5643",
   "metadata": {},
   "outputs": [
    {
     "name": "stdout",
     "output_type": "stream",
     "text": [
      "1\n",
      "2\n",
      "3\n",
      "4\n",
      "5\n"
     ]
    }
   ],
   "source": [
    "for i in l:\n",
    "    print(i)\n",
    "    if i==5: #A break is used to stop the continuous iteration of loop with certain condition.\n",
    "        break\n",
    "        "
   ]
  },
  {
   "cell_type": "code",
   "execution_count": 6,
   "id": "74062dcb",
   "metadata": {},
   "outputs": [
    {
     "data": {
      "text/plain": [
       "'l=[1,2,3,4,5,6]\\na=1\\nwhile a<=len(l):\\n    print(a)\\n    if a==5:  # in this code we could state that Continue is used to continue the value 5 and it puts the loop into endless                 loop with go on iterating 5 untill wee stop the kernal.\\n        continue\\n    a=a+1'"
      ]
     },
     "execution_count": 6,
     "metadata": {},
     "output_type": "execute_result"
    }
   ],
   "source": [
    "\"\"\"l=[1,2,3,4,5,6]\n",
    "a=1\n",
    "while a<=len(l):\n",
    "    print(a)\n",
    "    if a==5:  # in this code we could state that Continue is used to continue the value 5 and it puts the loop into endless                 loop with go on iterating 5 untill wee stop the kernal.\n",
    "        continue\n",
    "    a=a+1\"\"\""
   ]
  },
  {
   "cell_type": "markdown",
   "id": "bbecab3e",
   "metadata": {},
   "source": [
    "By above examples we could say that brak statement will break the loop at certain value /point.Where as the continue will make the sataement to perform to print the certain value continiously without end .That is ,it puts the loop into an endless loop and the value at which you will continue will gets printed without ending."
   ]
  },
  {
   "cell_type": "markdown",
   "id": "d2471dbf",
   "metadata": {},
   "source": [
    "11. In a for loop, what is the difference between range(10), range(0, 10), and range(0, 10, 1)?"
   ]
  },
  {
   "cell_type": "code",
   "execution_count": 23,
   "id": "04d0c0d5",
   "metadata": {},
   "outputs": [
    {
     "data": {
      "text/plain": [
       "range(0, 10)"
      ]
     },
     "execution_count": 23,
     "metadata": {},
     "output_type": "execute_result"
    }
   ],
   "source": [
    "range(10)"
   ]
  },
  {
   "cell_type": "code",
   "execution_count": 32,
   "id": "bd5b501d",
   "metadata": {},
   "outputs": [
    {
     "name": "stdout",
     "output_type": "stream",
     "text": [
      "0\n",
      "1\n",
      "2\n",
      "3\n",
      "4\n",
      "5\n",
      "6\n",
      "7\n",
      "8\n",
      "9\n"
     ]
    }
   ],
   "source": [
    "for i in range(10):\n",
    "    print(i)"
   ]
  },
  {
   "cell_type": "code",
   "execution_count": 1,
   "id": "ad5194a9",
   "metadata": {},
   "outputs": [
    {
     "name": "stdout",
     "output_type": "stream",
     "text": [
      "0\n",
      "1\n",
      "2\n",
      "3\n",
      "4\n",
      "5\n",
      "6\n",
      "7\n",
      "8\n",
      "9\n"
     ]
    }
   ],
   "source": [
    "for i in range(0,10):\n",
    "    print(i)"
   ]
  },
  {
   "cell_type": "code",
   "execution_count": 2,
   "id": "d3d15870",
   "metadata": {},
   "outputs": [
    {
     "name": "stdout",
     "output_type": "stream",
     "text": [
      "0\n",
      "1\n",
      "2\n",
      "3\n",
      "4\n",
      "5\n",
      "6\n",
      "7\n",
      "8\n",
      "9\n"
     ]
    }
   ],
   "source": [
    "for i in range(0,10,1):\n",
    "    print(i)"
   ]
  },
  {
   "cell_type": "code",
   "execution_count": 12,
   "id": "3d1eb2ff",
   "metadata": {},
   "outputs": [
    {
     "data": {
      "text/plain": [
       "'There is no such difference between range(10), range(0, 10), and range(0, 10, 1) in for loop ,all will CALL THE SAME VALUES'"
      ]
     },
     "execution_count": 12,
     "metadata": {},
     "output_type": "execute_result"
    }
   ],
   "source": [
    "\"\"\"There is no such difference between range(10), range(0, 10), and range(0, 10, 1) in for loop ,all will CALL THE SAME VALUES\"\"\""
   ]
  },
  {
   "cell_type": "markdown",
   "id": "2aad6e49",
   "metadata": {},
   "source": [
    "12. Write a short program that prints the numbers 1 to 10 using a for loop. Then write an equivalent\n",
    "program that prints the numbers 1 to 10 using a while loop."
   ]
  },
  {
   "cell_type": "code",
   "execution_count": 33,
   "id": "124e14f3",
   "metadata": {},
   "outputs": [
    {
     "name": "stdout",
     "output_type": "stream",
     "text": [
      "1\n",
      "2\n",
      "3\n",
      "4\n",
      "5\n",
      "6\n",
      "7\n",
      "8\n",
      "9\n",
      "10\n"
     ]
    }
   ],
   "source": [
    "for i in range(1,11):\n",
    "    print(i)"
   ]
  },
  {
   "cell_type": "code",
   "execution_count": 5,
   "id": "809c7811",
   "metadata": {},
   "outputs": [
    {
     "name": "stdout",
     "output_type": "stream",
     "text": [
      "1\n",
      "2\n",
      "3\n",
      "4\n",
      "5\n",
      "6\n",
      "7\n",
      "8\n",
      "9\n",
      "10\n"
     ]
    }
   ],
   "source": [
    "a=1\n",
    "while a< len(range(0,11)):\n",
    "    print(a)\n",
    "    a=a+1"
   ]
  },
  {
   "cell_type": "markdown",
   "id": "e85c693a",
   "metadata": {},
   "source": [
    "13. If you had a function named bacon() inside a module named spam, how would you call it after\n",
    "importing spam?"
   ]
  },
  {
   "cell_type": "code",
   "execution_count": null,
   "id": "76455c9b",
   "metadata": {},
   "outputs": [],
   "source": [
    "#### PEnding questions 13"
   ]
  }
 ],
 "metadata": {
  "kernelspec": {
   "display_name": "Python 3 (ipykernel)",
   "language": "python",
   "name": "python3"
  },
  "language_info": {
   "codemirror_mode": {
    "name": "ipython",
    "version": 3
   },
   "file_extension": ".py",
   "mimetype": "text/x-python",
   "name": "python",
   "nbconvert_exporter": "python",
   "pygments_lexer": "ipython3",
   "version": "3.9.7"
  }
 },
 "nbformat": 4,
 "nbformat_minor": 5
}
