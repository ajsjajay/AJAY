{
 "cells": [
  {
   "cell_type": "markdown",
   "id": "a1683b8d",
   "metadata": {},
   "source": [
    "1. What does an empty dictionary's code look like?"
   ]
  },
  {
   "cell_type": "code",
   "execution_count": 3,
   "id": "2412c8db",
   "metadata": {},
   "outputs": [],
   "source": [
    "a={\"\": _}"
   ]
  },
  {
   "cell_type": "code",
   "execution_count": 4,
   "id": "f784267e",
   "metadata": {},
   "outputs": [
    {
     "data": {
      "text/plain": [
       "{'': ''}"
      ]
     },
     "execution_count": 4,
     "metadata": {},
     "output_type": "execute_result"
    }
   ],
   "source": [
    "a"
   ]
  },
  {
   "cell_type": "code",
   "execution_count": 6,
   "id": "51a420b2",
   "metadata": {},
   "outputs": [],
   "source": [
    "a={}"
   ]
  },
  {
   "cell_type": "code",
   "execution_count": 7,
   "id": "f068d58c",
   "metadata": {},
   "outputs": [
    {
     "data": {
      "text/plain": [
       "{}"
      ]
     },
     "execution_count": 7,
     "metadata": {},
     "output_type": "execute_result"
    }
   ],
   "source": [
    "a"
   ]
  },
  {
   "cell_type": "markdown",
   "id": "14f5283d",
   "metadata": {},
   "source": [
    "2. What is the value of a dictionary value with the key 'foo' and the value 42?"
   ]
  },
  {
   "cell_type": "code",
   "execution_count": 8,
   "id": "f0ac74fe",
   "metadata": {},
   "outputs": [],
   "source": [
    "a={'foo':42}"
   ]
  },
  {
   "cell_type": "code",
   "execution_count": 17,
   "id": "9969c96b",
   "metadata": {},
   "outputs": [
    {
     "data": {
      "text/plain": [
       "dict_values([42])"
      ]
     },
     "execution_count": 17,
     "metadata": {},
     "output_type": "execute_result"
    }
   ],
   "source": [
    "a.values()"
   ]
  },
  {
   "cell_type": "markdown",
   "id": "e2cb5d75",
   "metadata": {},
   "source": [
    "3.What is the most significant distinction between a dictionary and a list?"
   ]
  },
  {
   "cell_type": "code",
   "execution_count": 24,
   "id": "d26c43d4",
   "metadata": {},
   "outputs": [
    {
     "data": {
      "text/plain": [
       "'Dictionary is aurgumen in pair that is a key value pair.while in list the objects are integers,string,list tuple dictionary,etc.\\nThe significant difference is list are enclosed with \"[]\", while dictionr is enclosed with \"{}\"  '"
      ]
     },
     "execution_count": 24,
     "metadata": {},
     "output_type": "execute_result"
    }
   ],
   "source": [
    "\"\"\"Dictionary is aurgumen in pair that is a key value pair.while in list the objects are integers,string,list tuple dictionary,etc.\n",
    "The significant difference is list are enclosed with \"[]\", while dictionr is enclosed with \"{}\"  \"\"\""
   ]
  },
  {
   "cell_type": "markdown",
   "id": "657e4eca",
   "metadata": {},
   "source": [
    "4. What happens if you try to access spam['foo'] if spam is {'bar': 100}?"
   ]
  },
  {
   "cell_type": "code",
   "execution_count": 25,
   "id": "a8366161",
   "metadata": {},
   "outputs": [],
   "source": [
    "spam={'bar': 100}"
   ]
  },
  {
   "cell_type": "code",
   "execution_count": 26,
   "id": "8562b861",
   "metadata": {},
   "outputs": [
    {
     "ename": "KeyError",
     "evalue": "'foo'",
     "output_type": "error",
     "traceback": [
      "\u001b[1;31m---------------------------------------------------------------------------\u001b[0m",
      "\u001b[1;31mKeyError\u001b[0m                                  Traceback (most recent call last)",
      "\u001b[1;32m~\\AppData\\Local\\Temp/ipykernel_11496/3999281786.py\u001b[0m in \u001b[0;36m<module>\u001b[1;34m\u001b[0m\n\u001b[1;32m----> 1\u001b[1;33m \u001b[0mspam\u001b[0m\u001b[1;33m[\u001b[0m\u001b[1;34m'foo'\u001b[0m\u001b[1;33m]\u001b[0m\u001b[1;33m\u001b[0m\u001b[1;33m\u001b[0m\u001b[0m\n\u001b[0m",
      "\u001b[1;31mKeyError\u001b[0m: 'foo'"
     ]
    }
   ],
   "source": [
    "spam['foo'] # there will be a key error if we call for non existing key ."
   ]
  },
  {
   "cell_type": "markdown",
   "id": "c5f1d46c",
   "metadata": {},
   "source": [
    "5. If a dictionary is stored in spam, what is the difference between the expressions 'cat' in spam and 'cat' in spam.keys()?"
   ]
  },
  {
   "cell_type": "code",
   "execution_count": 27,
   "id": "cf2afbe9",
   "metadata": {},
   "outputs": [],
   "source": [
    "spam={'cat':'mepty'}\n"
   ]
  },
  {
   "cell_type": "code",
   "execution_count": 29,
   "id": "61a6fd6e",
   "metadata": {},
   "outputs": [
    {
     "data": {
      "text/plain": [
       "'mepty'"
      ]
     },
     "execution_count": 29,
     "metadata": {},
     "output_type": "execute_result"
    }
   ],
   "source": [
    "spam['cat']"
   ]
  },
  {
   "cell_type": "code",
   "execution_count": 30,
   "id": "25cc7cf1",
   "metadata": {},
   "outputs": [
    {
     "data": {
      "text/plain": [
       "dict_keys(['cat'])"
      ]
     },
     "execution_count": 30,
     "metadata": {},
     "output_type": "execute_result"
    }
   ],
   "source": [
    "spam.keys()"
   ]
  },
  {
   "cell_type": "code",
   "execution_count": 31,
   "id": "d7d23991",
   "metadata": {},
   "outputs": [
    {
     "data": {
      "text/plain": [
       "'One ouput is string \"and the other out put is tupe of list of value'"
      ]
     },
     "execution_count": 31,
     "metadata": {},
     "output_type": "execute_result"
    }
   ],
   "source": [
    "\"\"\"One ouput is string \"and the other output is tupe of list of value\"\"\""
   ]
  },
  {
   "cell_type": "markdown",
   "id": "e49436a0",
   "metadata": {},
   "source": [
    "6. If a dictionary is stored in spam, what is the difference between the expressions 'cat' in spam and 'cat' in spam.values()?"
   ]
  },
  {
   "cell_type": "code",
   "execution_count": 32,
   "id": "3e5fcd8f",
   "metadata": {},
   "outputs": [],
   "source": [
    "spam={'empty':'cat'}"
   ]
  },
  {
   "cell_type": "code",
   "execution_count": 33,
   "id": "fb8645d0",
   "metadata": {},
   "outputs": [
    {
     "ename": "NameError",
     "evalue": "name 'cat' is not defined",
     "output_type": "error",
     "traceback": [
      "\u001b[1;31m---------------------------------------------------------------------------\u001b[0m",
      "\u001b[1;31mNameError\u001b[0m                                 Traceback (most recent call last)",
      "\u001b[1;32m~\\AppData\\Local\\Temp/ipykernel_11496/2287394170.py\u001b[0m in \u001b[0;36m<module>\u001b[1;34m\u001b[0m\n\u001b[1;32m----> 1\u001b[1;33m \u001b[0mspam\u001b[0m\u001b[1;33m[\u001b[0m\u001b[0mcat\u001b[0m\u001b[1;33m]\u001b[0m\u001b[1;33m\u001b[0m\u001b[1;33m\u001b[0m\u001b[0m\n\u001b[0m",
      "\u001b[1;31mNameError\u001b[0m: name 'cat' is not defined"
     ]
    }
   ],
   "source": [
    "spam[cat]"
   ]
  },
  {
   "cell_type": "code",
   "execution_count": 34,
   "id": "48ba12df",
   "metadata": {},
   "outputs": [
    {
     "data": {
      "text/plain": [
       "dict_values(['cat'])"
      ]
     },
     "execution_count": 34,
     "metadata": {},
     "output_type": "execute_result"
    }
   ],
   "source": [
    "spam.values()"
   ]
  },
  {
   "cell_type": "code",
   "execution_count": 35,
   "id": "fbdfa973",
   "metadata": {},
   "outputs": [
    {
     "data": {
      "text/plain": [
       "'spam of value is not possible and other expression spam.values() gives an output in form of tupe of list of value'"
      ]
     },
     "execution_count": 35,
     "metadata": {},
     "output_type": "execute_result"
    }
   ],
   "source": [
    "\"\"\"spam of value is not possible and other expression spam.values() gives an output in form of tupe of list of value\"\"\""
   ]
  },
  {
   "cell_type": "markdown",
   "id": "b86a7a6a",
   "metadata": {},
   "source": [
    "7. What is a shortcut for the following code?\n",
    "\"\"\"if 'color' not in spam:\n",
    "spam['color'] = 'black' \"\"\"\n"
   ]
  },
  {
   "cell_type": "code",
   "execution_count": 38,
   "id": "d398fb1f",
   "metadata": {},
   "outputs": [],
   "source": [
    "spam={'color':'not in spam'}"
   ]
  },
  {
   "cell_type": "code",
   "execution_count": 39,
   "id": "33875a9a",
   "metadata": {},
   "outputs": [],
   "source": [
    "spam={'color':'black'}"
   ]
  },
  {
   "cell_type": "markdown",
   "id": "fc34862e",
   "metadata": {},
   "source": [
    "8. How do you \"pretty print\" dictionary values using which module and function?"
   ]
  },
  {
   "cell_type": "code",
   "execution_count": 47,
   "id": "a449a1cd",
   "metadata": {},
   "outputs": [
    {
     "name": "stdout",
     "output_type": "stream",
     "text": [
      "dict_values(['jay', 'pretty print'])\n",
      "jay pretty print\n"
     ]
    }
   ],
   "source": [
    "spam={'ajay':'jay', 'hello':\"pretty print\"}\n",
    "print(spam.values())\n",
    "print(spam['ajay'],spam['hello'])"
   ]
  },
  {
   "cell_type": "code",
   "execution_count": null,
   "id": "7c98e644",
   "metadata": {},
   "outputs": [],
   "source": []
  }
 ],
 "metadata": {
  "kernelspec": {
   "display_name": "Python 3 (ipykernel)",
   "language": "python",
   "name": "python3"
  },
  "language_info": {
   "codemirror_mode": {
    "name": "ipython",
    "version": 3
   },
   "file_extension": ".py",
   "mimetype": "text/x-python",
   "name": "python",
   "nbconvert_exporter": "python",
   "pygments_lexer": "ipython3",
   "version": "3.9.7"
  }
 },
 "nbformat": 4,
 "nbformat_minor": 5
}
