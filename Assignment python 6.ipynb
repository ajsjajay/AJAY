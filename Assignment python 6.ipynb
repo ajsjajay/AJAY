{
 "cells": [
  {
   "cell_type": "markdown",
   "id": "d26c68ac",
   "metadata": {},
   "source": [
    "1.What are escape characters, and how do you use them?"
   ]
  },
  {
   "cell_type": "code",
   "execution_count": 1,
   "id": "18a001d6",
   "metadata": {},
   "outputs": [
    {
     "data": {
      "text/plain": [
       "'Escape charecters are \\n,\\t,we can use \\n to shift to next line and \\t to give a tab.Mainly the escape charecters reflection could be seen in print statement'"
      ]
     },
     "execution_count": 1,
     "metadata": {},
     "output_type": "execute_result"
    }
   ],
   "source": [
    "\"Escape charecters are \\n,\\t,we can use \\n to shift to next line and \\t to give a tab.Mainly the escape charecters reflection could be seen in print statement\""
   ]
  },
  {
   "cell_type": "code",
   "execution_count": 2,
   "id": "b8c0a864",
   "metadata": {},
   "outputs": [],
   "source": [
    "a=\"hello\\nineuron\""
   ]
  },
  {
   "cell_type": "code",
   "execution_count": 3,
   "id": "cb32ef7e",
   "metadata": {},
   "outputs": [
    {
     "name": "stdout",
     "output_type": "stream",
     "text": [
      "hello\n",
      "ineuron\n"
     ]
    }
   ],
   "source": [
    "print(a)"
   ]
  },
  {
   "cell_type": "code",
   "execution_count": 4,
   "id": "0e45c294",
   "metadata": {},
   "outputs": [],
   "source": [
    "b=\"hello\\tineuron\""
   ]
  },
  {
   "cell_type": "code",
   "execution_count": 5,
   "id": "070ab55e",
   "metadata": {},
   "outputs": [
    {
     "name": "stdout",
     "output_type": "stream",
     "text": [
      "hello\tineuron\n"
     ]
    }
   ],
   "source": [
    "print(b)"
   ]
  },
  {
   "cell_type": "markdown",
   "id": "4ec44a23",
   "metadata": {},
   "source": [
    "2. What do the escape characters n and t stand for?"
   ]
  },
  {
   "cell_type": "code",
   "execution_count": 6,
   "id": "f5503bfc",
   "metadata": {},
   "outputs": [
    {
     "data": {
      "text/plain": [
       "'escape charecter n  stands fro shifting to next line and t stands fro producing tab space'"
      ]
     },
     "execution_count": 6,
     "metadata": {},
     "output_type": "execute_result"
    }
   ],
   "source": [
    "\"escape charecter n  stands fro shifting to next line and t stands fro producing tab space\""
   ]
  },
  {
   "cell_type": "markdown",
   "id": "1a674655",
   "metadata": {},
   "source": [
    "4. The string \"Howl's Moving Castle\" is a correct value. Why isn't the single quote character in the word Howl's not escaped a problem?"
   ]
  },
  {
   "cell_type": "code",
   "execution_count": 7,
   "id": "d62269be",
   "metadata": {},
   "outputs": [
    {
     "data": {
      "text/plain": [
       "\"howl's have not made a problem bcoz the entire sentence is included in double quote so a single quote inside the double quote would not make any trouble .If entire sentense was in sinle qote and also a sinle quote included inside it then there would have been a trouble.\""
      ]
     },
     "execution_count": 7,
     "metadata": {},
     "output_type": "execute_result"
    }
   ],
   "source": [
    "\"howl's have not made a problem bcoz the entire sentence is included in double quote so a single quote inside the double quote would not make any trouble .If entire sentense was in sinle qote and also a sinle quote included inside it then there would have been a trouble.\""
   ]
  },
  {
   "cell_type": "markdown",
   "id": "572c57c8",
   "metadata": {},
   "source": [
    "6. What are the values of the given expressions?"
   ]
  },
  {
   "cell_type": "code",
   "execution_count": 8,
   "id": "be9fc9aa",
   "metadata": {},
   "outputs": [
    {
     "name": "stdout",
     "output_type": "stream",
     "text": [
      "e\n"
     ]
    }
   ],
   "source": [
    "print('Hello, world!'[1])"
   ]
  },
  {
   "cell_type": "code",
   "execution_count": 9,
   "id": "0608a81e",
   "metadata": {},
   "outputs": [
    {
     "name": "stdout",
     "output_type": "stream",
     "text": [
      "Hello\n"
     ]
    }
   ],
   "source": [
    "print('Hello, world!'[0:5])"
   ]
  },
  {
   "cell_type": "code",
   "execution_count": 10,
   "id": "a4284057",
   "metadata": {},
   "outputs": [
    {
     "name": "stdout",
     "output_type": "stream",
     "text": [
      "Hello\n"
     ]
    }
   ],
   "source": [
    "print('Hello, world!'[:5])"
   ]
  },
  {
   "cell_type": "code",
   "execution_count": 11,
   "id": "42603ecf",
   "metadata": {},
   "outputs": [
    {
     "name": "stdout",
     "output_type": "stream",
     "text": [
      "lo, world!\n"
     ]
    }
   ],
   "source": [
    "print('Hello, world!'[3:])"
   ]
  },
  {
   "cell_type": "markdown",
   "id": "fbc39ccd",
   "metadata": {},
   "source": [
    "7. What are the values of the following expressions?"
   ]
  },
  {
   "cell_type": "code",
   "execution_count": 12,
   "id": "a442d46d",
   "metadata": {},
   "outputs": [
    {
     "name": "stdout",
     "output_type": "stream",
     "text": [
      "HELLO\n"
     ]
    }
   ],
   "source": [
    "print('Hello'.upper())"
   ]
  },
  {
   "cell_type": "code",
   "execution_count": 13,
   "id": "71a36977",
   "metadata": {},
   "outputs": [
    {
     "name": "stdout",
     "output_type": "stream",
     "text": [
      "True\n"
     ]
    }
   ],
   "source": [
    "print('Hello'.upper().isupper())"
   ]
  },
  {
   "cell_type": "code",
   "execution_count": 14,
   "id": "615ea18c",
   "metadata": {},
   "outputs": [
    {
     "name": "stdout",
     "output_type": "stream",
     "text": [
      "hello\n"
     ]
    }
   ],
   "source": [
    "print('Hello'.upper().lower())"
   ]
  },
  {
   "cell_type": "markdown",
   "id": "330a4765",
   "metadata": {},
   "source": [
    "8. What are the values of the following expressions?"
   ]
  },
  {
   "cell_type": "code",
   "execution_count": 15,
   "id": "29ae4510",
   "metadata": {},
   "outputs": [
    {
     "name": "stdout",
     "output_type": "stream",
     "text": [
      "['Remember,', 'remember,', 'the', 'fifth', 'of', 'July.']\n"
     ]
    }
   ],
   "source": [
    "print('Remember, remember, the fifth of July.'.split())"
   ]
  },
  {
   "cell_type": "code",
   "execution_count": 16,
   "id": "b6e53eee",
   "metadata": {},
   "outputs": [
    {
     "data": {
      "text/plain": [
       "'There-can-only-one.'"
      ]
     },
     "execution_count": 16,
     "metadata": {},
     "output_type": "execute_result"
    }
   ],
   "source": [
    "'-'.join('There can only one.'.split())"
   ]
  },
  {
   "cell_type": "markdown",
   "id": "46c40260",
   "metadata": {},
   "source": [
    "9. What are the methods for right-justifying, left-justifying, and centering a string?"
   ]
  },
  {
   "cell_type": "code",
   "execution_count": 17,
   "id": "35be6e4f",
   "metadata": {},
   "outputs": [],
   "source": [
    "a=\"ineuron\""
   ]
  },
  {
   "cell_type": "code",
   "execution_count": 18,
   "id": "47e7c2af",
   "metadata": {},
   "outputs": [
    {
     "data": {
      "text/plain": [
       "'        ineuron'"
      ]
     },
     "execution_count": 18,
     "metadata": {},
     "output_type": "execute_result"
    }
   ],
   "source": [
    "a.rjust(15)"
   ]
  },
  {
   "cell_type": "code",
   "execution_count": 19,
   "id": "df49372c",
   "metadata": {},
   "outputs": [],
   "source": [
    "a=\"classes\""
   ]
  },
  {
   "cell_type": "code",
   "execution_count": 20,
   "id": "519a6ed8",
   "metadata": {},
   "outputs": [
    {
     "data": {
      "text/plain": [
       "'classes        '"
      ]
     },
     "execution_count": 20,
     "metadata": {},
     "output_type": "execute_result"
    }
   ],
   "source": [
    "a.ljust(15)"
   ]
  },
  {
   "cell_type": "code",
   "execution_count": 21,
   "id": "3ad9cb4b",
   "metadata": {},
   "outputs": [],
   "source": [
    "a=\"cenerting\""
   ]
  },
  {
   "cell_type": "code",
   "execution_count": 22,
   "id": "a6835056",
   "metadata": {},
   "outputs": [
    {
     "data": {
      "text/plain": [
       "'     cenerting      '"
      ]
     },
     "execution_count": 22,
     "metadata": {},
     "output_type": "execute_result"
    }
   ],
   "source": [
    "a.center(20)"
   ]
  },
  {
   "cell_type": "markdown",
   "id": "67b72778",
   "metadata": {},
   "source": [
    "10. What is the best way to remove whitespace characters from the start or end?"
   ]
  },
  {
   "cell_type": "code",
   "execution_count": 23,
   "id": "236cbd66",
   "metadata": {},
   "outputs": [],
   "source": [
    "b=\"      whide          \""
   ]
  },
  {
   "cell_type": "code",
   "execution_count": 24,
   "id": "2c459fd0",
   "metadata": {},
   "outputs": [
    {
     "data": {
      "text/plain": [
       "'whide'"
      ]
     },
     "execution_count": 24,
     "metadata": {},
     "output_type": "execute_result"
    }
   ],
   "source": [
    "b.strip()"
   ]
  },
  {
   "cell_type": "code",
   "execution_count": null,
   "id": "f7427fe1",
   "metadata": {},
   "outputs": [],
   "source": []
  },
  {
   "cell_type": "code",
   "execution_count": null,
   "id": "71e9bd69",
   "metadata": {},
   "outputs": [],
   "source": []
  }
 ],
 "metadata": {
  "kernelspec": {
   "display_name": "Python 3 (ipykernel)",
   "language": "python",
   "name": "python3"
  },
  "language_info": {
   "codemirror_mode": {
    "name": "ipython",
    "version": 3
   },
   "file_extension": ".py",
   "mimetype": "text/x-python",
   "name": "python",
   "nbconvert_exporter": "python",
   "pygments_lexer": "ipython3",
   "version": "3.9.7"
  }
 },
 "nbformat": 4,
 "nbformat_minor": 5
}
