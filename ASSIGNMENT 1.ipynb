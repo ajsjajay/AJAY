{
 "cells": [
  {
   "cell_type": "raw",
   "id": "43a16cd5",
   "metadata": {},
   "source": [
    "1. In the below elements which of them are values or an expression? eg:- values can be\n",
    "integer or string and expressions will be mathematical operators.\n"
   ]
  },
  {
   "cell_type": "raw",
   "id": "858a3c7e",
   "metadata": {},
   "source": [
    "values = \"hello\" , -87.8 ,6\n",
    "\n",
    " expression = - / + *\n",
    "\n",
    "\n",
    "\n"
   ]
  },
  {
   "cell_type": "raw",
   "id": "1fdae79b",
   "metadata": {},
   "source": [
    "2. What is the difference between string and variable?\n",
    "\n",
    "string is quoted and it can be integer,alpahbets or alphanumeric defined in quotes.Ex:\"Qwerty\" ,\"1234\" ,\"134125aggrq\"\n",
    "\n",
    "variable is used to define the string or integer or the list etc.In general we could define it as the operation in phython used to define the different data types.\n"
   ]
  },
  {
   "cell_type": "raw",
   "id": "03806460",
   "metadata": {},
   "source": [
    "3. Describe three different data types. \n",
    " \n",
    " List [1,2,3,4,\"qwr\"] A list is type of data set which contains integers strings ,list inside a list etc \n",
    " TUples (1,2,3,4,\"qwr\") A tuple is type of data set enclosed in samll bracked ,whih contains simliar kind of data in it to list\n",
    " Sets{1,3,4,5,\"qwer\"}Inside set we can define a repeated type of elements but when set is called or its docstring will be a set of uniwue entities. "
   ]
  },
  {
   "cell_type": "raw",
   "id": "acb23381",
   "metadata": {},
   "source": [
    "4. What is an expression made up of? What do all expressions do?\n",
    "An expression is made up of mathematical operTORS and it will perfrom the mathematical operations,like addition substaration ,multiplication etc"
   ]
  },
  {
   "cell_type": "raw",
   "id": "02639d84",
   "metadata": {},
   "source": [
    "5. This assignment statements, like spam = 10. What is the difference between an expression and a statement?\n",
    "\n",
    "In spam = 10 is astatement ,which means spam is variable and 10 is defined by variable spam.Also we could say value 10 is defined by variable  spam.\n",
    "\n",
    "Expresion is supposed a=22 and b=23 then a+b =? ,here a+b will be the expression and a=22 and b=23 are statements.\n"
   ]
  },
  {
   "cell_type": "raw",
   "id": "0c2d8620",
   "metadata": {},
   "source": [
    "6. After running the following code, what does the variable bacon contain?\n",
    "bacon = 22\n",
    "bacon + 1"
   ]
  },
  {
   "cell_type": "code",
   "execution_count": 2,
   "id": "f5e9d508",
   "metadata": {},
   "outputs": [],
   "source": [
    "bacon = 22"
   ]
  },
  {
   "cell_type": "code",
   "execution_count": 3,
   "id": "a9cd5e61",
   "metadata": {},
   "outputs": [
    {
     "data": {
      "text/plain": [
       "23"
      ]
     },
     "execution_count": 3,
     "metadata": {},
     "output_type": "execute_result"
    }
   ],
   "source": [
    "bacon + 1"
   ]
  },
  {
   "cell_type": "code",
   "execution_count": 4,
   "id": "a824c606",
   "metadata": {},
   "outputs": [
    {
     "data": {
      "text/plain": [
       "22"
      ]
     },
     "execution_count": 4,
     "metadata": {},
     "output_type": "execute_result"
    }
   ],
   "source": [
    "bacon"
   ]
  },
  {
   "cell_type": "raw",
   "id": "62c90da3",
   "metadata": {},
   "source": [
    "After running the following code bacon contains 22"
   ]
  },
  {
   "cell_type": "raw",
   "id": "50a96e50",
   "metadata": {},
   "source": [
    "7. What should the values of the following two terms be?\n",
    "'spam'+'spamspam\""
   ]
  },
  {
   "cell_type": "code",
   "execution_count": 7,
   "id": "29f15227",
   "metadata": {},
   "outputs": [
    {
     "data": {
      "text/plain": [
       "'spamspamspam'"
      ]
     },
     "execution_count": 7,
     "metadata": {},
     "output_type": "execute_result"
    }
   ],
   "source": [
    "'spam'+'spamspam'"
   ]
  },
  {
   "cell_type": "code",
   "execution_count": 8,
   "id": "c0531be8",
   "metadata": {},
   "outputs": [
    {
     "data": {
      "text/plain": [
       "'spamspamspam'"
      ]
     },
     "execution_count": 8,
     "metadata": {},
     "output_type": "execute_result"
    }
   ],
   "source": [
    "'spam' * 3"
   ]
  },
  {
   "cell_type": "raw",
   "id": "a32b3667",
   "metadata": {},
   "source": [
    "The values of following two terms will be same."
   ]
  },
  {
   "cell_type": "raw",
   "id": "3383a706",
   "metadata": {},
   "source": [
    "8. Why is eggs a valid variable name while 100 is invalid?"
   ]
  },
  {
   "cell_type": "raw",
   "id": "40197899",
   "metadata": {},
   "source": [
    "Because variable name can be only alphabets where as it cannot be numbers as per the python. "
   ]
  },
  {
   "cell_type": "raw",
   "id": "f0c834ed",
   "metadata": {},
   "source": [
    "9. What three functions can be used to get the integer, floating-point number, or string\n",
    "version of a value?"
   ]
  },
  {
   "cell_type": "raw",
   "id": "d57b51c1",
   "metadata": {},
   "source": [
    "Int function can be used to get the integer."
   ]
  },
  {
   "cell_type": "code",
   "execution_count": 2,
   "id": "196dba50",
   "metadata": {},
   "outputs": [
    {
     "data": {
      "text/plain": [
       "2"
      ]
     },
     "execution_count": 2,
     "metadata": {},
     "output_type": "execute_result"
    }
   ],
   "source": [
    "int(2)"
   ]
  },
  {
   "cell_type": "raw",
   "id": "e3211f82",
   "metadata": {},
   "source": [
    "10. Why does this expression cause an error? How can you fix it?\n",
    "'I have eaten' + 99 +'burritos'"
   ]
  },
  {
   "cell_type": "code",
   "execution_count": 3,
   "id": "f3cc9ca6",
   "metadata": {},
   "outputs": [
    {
     "ename": "TypeError",
     "evalue": "can only concatenate str (not \"int\") to str",
     "output_type": "error",
     "traceback": [
      "\u001b[1;31m---------------------------------------------------------------------------\u001b[0m",
      "\u001b[1;31mTypeError\u001b[0m                                 Traceback (most recent call last)",
      "\u001b[1;32m~\\AppData\\Local\\Temp/ipykernel_25060/1488253775.py\u001b[0m in \u001b[0;36m<module>\u001b[1;34m\u001b[0m\n\u001b[1;32m----> 1\u001b[1;33m \u001b[1;34m'I have eaten'\u001b[0m \u001b[1;33m+\u001b[0m \u001b[1;36m99\u001b[0m \u001b[1;33m+\u001b[0m\u001b[1;34m'burritos'\u001b[0m\u001b[1;33m\u001b[0m\u001b[1;33m\u001b[0m\u001b[0m\n\u001b[0m",
      "\u001b[1;31mTypeError\u001b[0m: can only concatenate str (not \"int\") to str"
     ]
    }
   ],
   "source": [
    "'I have eaten' + 99 +'burritos'"
   ]
  },
  {
   "cell_type": "raw",
   "id": "dc6c785a",
   "metadata": {},
   "source": [
    "Expression causes error because ther is type casting used,using the type casting issue could be solved,i.e if 99 is also converted to string the issue could be solved."
   ]
  },
  {
   "cell_type": "code",
   "execution_count": 5,
   "id": "cb3e5878",
   "metadata": {},
   "outputs": [
    {
     "data": {
      "text/plain": [
       "'I have eaten99burritos'"
      ]
     },
     "execution_count": 5,
     "metadata": {},
     "output_type": "execute_result"
    }
   ],
   "source": [
    "'I have eaten' + '99' +'burritos'"
   ]
  },
  {
   "cell_type": "code",
   "execution_count": null,
   "id": "bb56e80f",
   "metadata": {},
   "outputs": [],
   "source": []
  }
 ],
 "metadata": {
  "kernelspec": {
   "display_name": "Python 3 (ipykernel)",
   "language": "python",
   "name": "python3"
  },
  "language_info": {
   "codemirror_mode": {
    "name": "ipython",
    "version": 3
   },
   "file_extension": ".py",
   "mimetype": "text/x-python",
   "name": "python",
   "nbconvert_exporter": "python",
   "pygments_lexer": "ipython3",
   "version": "3.9.7"
  }
 },
 "nbformat": 4,
 "nbformat_minor": 5
}
