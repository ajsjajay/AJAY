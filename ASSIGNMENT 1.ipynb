{
 "cells": [
  {
   "cell_type": "markdown",
   "id": "0f0f631b",
   "metadata": {},
   "source": [
    "1. In the below elements which of them are values or an expression? eg:- values can be\n",
    "integer or string and expressions will be mathematical operators.\n"
   ]
  },
  {
   "cell_type": "code",
   "execution_count": 1,
   "id": "f837dc12",
   "metadata": {},
   "outputs": [
    {
     "data": {
      "text/plain": [
       "'values = \"hello\" , -87.8 ,6\\n\\n expression = - / + *   '"
      ]
     },
     "execution_count": 1,
     "metadata": {},
     "output_type": "execute_result"
    }
   ],
   "source": [
    "\"\"\"values = \"hello\" , -87.8 ,6\n",
    "\n",
    " expression = - / + *   \"\"\"\n",
    "\n",
    "\n",
    "\n"
   ]
  },
  {
   "cell_type": "markdown",
   "id": "235bc4fc",
   "metadata": {},
   "source": [
    "2. What is the difference between string and variable?"
   ]
  },
  {
   "cell_type": "code",
   "execution_count": 2,
   "id": "4f9f1a47",
   "metadata": {},
   "outputs": [
    {
     "data": {
      "text/plain": [
       "'string is quoted and it can be integer,alpahbets or alphanumeric defined in quotes.Ex:\"Qwerty\" ,\"1234\" ,\"134125aggrq\"\\n\\nvariable is used to define the string or integer or the list etc.In general we could define it as the operation in phython used to define the different data types.'"
      ]
     },
     "execution_count": 2,
     "metadata": {},
     "output_type": "execute_result"
    }
   ],
   "source": [
    "\"\"\"string is quoted and it can be integer,alpahbets or alphanumeric defined in quotes.Ex:\"Qwerty\" ,\"1234\" ,\"134125aggrq\"\n",
    "\n",
    "variable is used to define the string or integer or the list etc.In general we could define it as the operation in phython used to define the different data types.\"\"\"\n"
   ]
  },
  {
   "cell_type": "markdown",
   "id": "d04cfd4c",
   "metadata": {},
   "source": [
    "3. Describe three different data types."
   ]
  },
  {
   "cell_type": "code",
   "execution_count": 8,
   "id": "7e5a5f53",
   "metadata": {},
   "outputs": [
    {
     "data": {
      "text/plain": [
       "' List [1,2,3,4,\"qwr\"], A list is type of data set which contains integers strings ,list inside a list etc \\n TUples (1,2,3,4,\"qwr\") A tuple is type of data set enclosed in samll bracked ,whih contains simliar kind of data in it to list\\n Sets{1,3,4,5,\"qwer\"}Inside set we can define a repeated type of elements but when set is called or its docstring will be a set of uniwue entities.'"
      ]
     },
     "execution_count": 8,
     "metadata": {},
     "output_type": "execute_result"
    }
   ],
   "source": [
    " \n",
    " \n",
    "\"\"\" List [1,2,3,4,\"qwr\"], A list is type of data set which contains integers strings ,list inside a list etc \n",
    " TUples (1,2,3,4,\"qwr\") A tuple is type of data set enclosed in samll bracked ,whih contains simliar kind of data in it to list\n",
    " Sets{1,3,4,5,\"qwer\"}Inside set we can define a repeated type of elements but when set is called or its docstring will be a set of uniwue entities.\"\"\" "
   ]
  },
  {
   "cell_type": "markdown",
   "id": "427ea8ea",
   "metadata": {},
   "source": [
    "4. What is an expression made up of? What do all expressions do?"
   ]
  },
  {
   "cell_type": "code",
   "execution_count": 6,
   "id": "7599da4a",
   "metadata": {},
   "outputs": [
    {
     "data": {
      "text/plain": [
       "'#An expression is made up of mathematical operators and it will perfrom the mathematical operations,like addition\\nsubstaration ,multiplication etc'"
      ]
     },
     "execution_count": 6,
     "metadata": {},
     "output_type": "execute_result"
    }
   ],
   "source": [
    "\"\"\"#An expression is made up of mathematical operators and it will perfrom the mathematical operations,like addition\n",
    "substaration ,multiplication etc\"\"\""
   ]
  },
  {
   "cell_type": "markdown",
   "id": "cf5fc279",
   "metadata": {},
   "source": [
    "5. This assignment statements, like spam = 10. What is the difference between an expression and a statement?"
   ]
  },
  {
   "cell_type": "code",
   "execution_count": 7,
   "id": "5f8b6a28",
   "metadata": {},
   "outputs": [
    {
     "data": {
      "text/plain": [
       "'#In spam = 10 is a statement ,which means spam is variable and 10 is defined by variable spam.\\nAlso we could say value 10 is defined by variable  spam.\\n\\n supposed a=22 and b=23 then a+b =? ,here a+b will be the expression and a=22 and b=23 are statements.'"
      ]
     },
     "execution_count": 7,
     "metadata": {},
     "output_type": "execute_result"
    }
   ],
   "source": [
    "\"\"\"#In spam = 10 is a statement ,which means spam is variable and 10 is defined by variable spam.\n",
    "   Also we could say value 10 is defined by variable  spam.\n",
    "\n",
    " supposed a=22 and b=23 then a+b =? ,here a+b will be the expression and a=22 and b=23 are statements.\"\"\"\n"
   ]
  },
  {
   "cell_type": "code",
   "execution_count": 6,
   "id": "b2b414c4",
   "metadata": {},
   "outputs": [
    {
     "data": {
      "text/plain": [
       "'6. After running the following code, what does the variable bacon contain?\\nbacon = 22\\nbacon + 1'"
      ]
     },
     "execution_count": 6,
     "metadata": {},
     "output_type": "execute_result"
    }
   ],
   "source": [
    "\"\"\"6. After running the following code, what does the variable bacon contain?\n",
    "bacon = 22\n",
    "bacon + 1\"\"\""
   ]
  },
  {
   "cell_type": "code",
   "execution_count": 3,
   "id": "f5e9d508",
   "metadata": {},
   "outputs": [],
   "source": [
    "bacon = 22"
   ]
  },
  {
   "cell_type": "code",
   "execution_count": 4,
   "id": "a9cd5e61",
   "metadata": {},
   "outputs": [
    {
     "data": {
      "text/plain": [
       "23"
      ]
     },
     "execution_count": 4,
     "metadata": {},
     "output_type": "execute_result"
    }
   ],
   "source": [
    "bacon + 1"
   ]
  },
  {
   "cell_type": "code",
   "execution_count": 4,
   "id": "a824c606",
   "metadata": {},
   "outputs": [
    {
     "data": {
      "text/plain": [
       "22"
      ]
     },
     "execution_count": 4,
     "metadata": {},
     "output_type": "execute_result"
    }
   ],
   "source": [
    "bacon"
   ]
  },
  {
   "cell_type": "markdown",
   "id": "29dd9f51",
   "metadata": {},
   "source": [
    "After running the following code bacon contains 22"
   ]
  },
  {
   "cell_type": "code",
   "execution_count": 7,
   "id": "61455ca8",
   "metadata": {},
   "outputs": [
    {
     "data": {
      "text/plain": [
       "'7. What should the values of the following two terms be?\\n\\'spam\\'+\\'spamspam\"        '"
      ]
     },
     "execution_count": 7,
     "metadata": {},
     "output_type": "execute_result"
    }
   ],
   "source": [
    "\"\"\"7. What should the values of the following two terms be?\n",
    "'spam'+'spamspam\"        \"\"\""
   ]
  },
  {
   "cell_type": "code",
   "execution_count": 7,
   "id": "29f15227",
   "metadata": {},
   "outputs": [
    {
     "data": {
      "text/plain": [
       "'spamspamspam'"
      ]
     },
     "execution_count": 7,
     "metadata": {},
     "output_type": "execute_result"
    }
   ],
   "source": [
    "'spam'+'spamspam'"
   ]
  },
  {
   "cell_type": "code",
   "execution_count": 8,
   "id": "c0531be8",
   "metadata": {},
   "outputs": [
    {
     "data": {
      "text/plain": [
       "'spamspamspam'"
      ]
     },
     "execution_count": 8,
     "metadata": {},
     "output_type": "execute_result"
    }
   ],
   "source": [
    "'spam' * 3"
   ]
  },
  {
   "cell_type": "markdown",
   "id": "28d0d93f",
   "metadata": {},
   "source": [
    "The values of following two terms will be same."
   ]
  },
  {
   "cell_type": "markdown",
   "id": "98789c8d",
   "metadata": {},
   "source": [
    "8. Why is eggs a valid variable name while 100 is invalid?"
   ]
  },
  {
   "cell_type": "code",
   "execution_count": 8,
   "id": "0d5cf434",
   "metadata": {},
   "outputs": [
    {
     "data": {
      "text/plain": [
       "'Because variable name can be only alphabets where as it cannot be numbers as per the python. Also question itself defines as name.So number cannot be a name.'"
      ]
     },
     "execution_count": 8,
     "metadata": {},
     "output_type": "execute_result"
    }
   ],
   "source": [
    "\"\"\"Because variable name can be only alphabets where as it cannot be numbers as per the python. Also question itself defines as name.So number cannot be a name.\"\"\""
   ]
  },
  {
   "cell_type": "markdown",
   "id": "e8580154",
   "metadata": {},
   "source": [
    "9. What three functions can be used to get the integer, floating-point number, or string\n",
    "version of a value?"
   ]
  },
  {
   "cell_type": "code",
   "execution_count": 9,
   "id": "b4207506",
   "metadata": {},
   "outputs": [
    {
     "data": {
      "text/plain": [
       "'Int function can be used to get the integer.'"
      ]
     },
     "execution_count": 9,
     "metadata": {},
     "output_type": "execute_result"
    }
   ],
   "source": [
    "\"\"\"Int function can be used to get the integer.\"\"\""
   ]
  },
  {
   "cell_type": "code",
   "execution_count": 10,
   "id": "196dba50",
   "metadata": {},
   "outputs": [
    {
     "data": {
      "text/plain": [
       "2"
      ]
     },
     "execution_count": 10,
     "metadata": {},
     "output_type": "execute_result"
    }
   ],
   "source": [
    "int(2)"
   ]
  },
  {
   "cell_type": "code",
   "execution_count": 2,
   "id": "fbb0f1e7",
   "metadata": {},
   "outputs": [
    {
     "name": "stdout",
     "output_type": "stream",
     "text": [
      "enter a value= 22\n"
     ]
    },
    {
     "data": {
      "text/plain": [
       "22"
      ]
     },
     "execution_count": 2,
     "metadata": {},
     "output_type": "execute_result"
    }
   ],
   "source": [
    "int(input(\"enter a value= \"))"
   ]
  },
  {
   "cell_type": "code",
   "execution_count": 3,
   "id": "67a1ce68",
   "metadata": {},
   "outputs": [
    {
     "name": "stdout",
     "output_type": "stream",
     "text": [
      "enter a value= 21.22\n"
     ]
    },
    {
     "data": {
      "text/plain": [
       "21.22"
      ]
     },
     "execution_count": 3,
     "metadata": {},
     "output_type": "execute_result"
    }
   ],
   "source": [
    "float(input(\"enter a value= \"))"
   ]
  },
  {
   "cell_type": "code",
   "execution_count": 4,
   "id": "7f5e1661",
   "metadata": {},
   "outputs": [
    {
     "name": "stdout",
     "output_type": "stream",
     "text": [
      "enter a input= Ajay\n"
     ]
    },
    {
     "data": {
      "text/plain": [
       "'Ajay'"
      ]
     },
     "execution_count": 4,
     "metadata": {},
     "output_type": "execute_result"
    }
   ],
   "source": [
    "input(\"enter a input= \")"
   ]
  },
  {
   "cell_type": "markdown",
   "id": "2247fca9",
   "metadata": {},
   "source": [
    "10. Why does this expression cause an error? How can you fix it?\n",
    "'I have eaten' + 99 +'burritos'"
   ]
  },
  {
   "cell_type": "code",
   "execution_count": 3,
   "id": "f3cc9ca6",
   "metadata": {},
   "outputs": [
    {
     "ename": "TypeError",
     "evalue": "can only concatenate str (not \"int\") to str",
     "output_type": "error",
     "traceback": [
      "\u001b[1;31m---------------------------------------------------------------------------\u001b[0m",
      "\u001b[1;31mTypeError\u001b[0m                                 Traceback (most recent call last)",
      "\u001b[1;32m~\\AppData\\Local\\Temp/ipykernel_25060/1488253775.py\u001b[0m in \u001b[0;36m<module>\u001b[1;34m\u001b[0m\n\u001b[1;32m----> 1\u001b[1;33m \u001b[1;34m'I have eaten'\u001b[0m \u001b[1;33m+\u001b[0m \u001b[1;36m99\u001b[0m \u001b[1;33m+\u001b[0m\u001b[1;34m'burritos'\u001b[0m\u001b[1;33m\u001b[0m\u001b[1;33m\u001b[0m\u001b[0m\n\u001b[0m",
      "\u001b[1;31mTypeError\u001b[0m: can only concatenate str (not \"int\") to str"
     ]
    }
   ],
   "source": [
    "'I have eaten' + 99 +'burritos'"
   ]
  },
  {
   "cell_type": "code",
   "execution_count": 11,
   "id": "ceebb1e7",
   "metadata": {},
   "outputs": [
    {
     "data": {
      "text/plain": [
       "'Expression causes error because ther is type casting used,using the type casting issue could be solved,i.e if 99 is also converted to string the issue could be solved.'"
      ]
     },
     "execution_count": 11,
     "metadata": {},
     "output_type": "execute_result"
    }
   ],
   "source": [
    "\"\"\"Expression causes error because ther is type casting used,using the type casting issue could be solved,i.e if 99 is also converted to string the issue could be solved.\"\"\""
   ]
  },
  {
   "cell_type": "code",
   "execution_count": 5,
   "id": "cb3e5878",
   "metadata": {},
   "outputs": [
    {
     "data": {
      "text/plain": [
       "'I have eaten99burritos'"
      ]
     },
     "execution_count": 5,
     "metadata": {},
     "output_type": "execute_result"
    }
   ],
   "source": [
    "'I have eaten' + '99' +'burritos'"
   ]
  },
  {
   "cell_type": "code",
   "execution_count": null,
   "id": "bb56e80f",
   "metadata": {},
   "outputs": [],
   "source": []
  }
 ],
 "metadata": {
  "kernelspec": {
   "display_name": "Python 3 (ipykernel)",
   "language": "python",
   "name": "python3"
  },
  "language_info": {
   "codemirror_mode": {
    "name": "ipython",
    "version": 3
   },
   "file_extension": ".py",
   "mimetype": "text/x-python",
   "name": "python",
   "nbconvert_exporter": "python",
   "pygments_lexer": "ipython3",
   "version": "3.9.7"
  }
 },
 "nbformat": 4,
 "nbformat_minor": 5
}
